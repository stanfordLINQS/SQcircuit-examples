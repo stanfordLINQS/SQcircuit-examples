{
  "cells": [
    {
      "cell_type": "markdown",
      "source": [
        "# Gradient-Based Optimization Demo"
      ],
      "metadata": {
        "id": "EHS8-N75-_zs"
      }
    },
    {
      "cell_type": "code",
      "execution_count": 2,
      "metadata": {
        "id": "C8pPSU2Wp0b6"
      },
      "outputs": [],
      "source": [
        "import SQcircuit as sq\n",
        "\n",
        "import numpy as np\n",
        "import torch\n",
        "from matplotlib import pyplot as plt"
      ]
    },
    {
      "cell_type": "markdown",
      "source": [
        "## Introduction"
      ],
      "metadata": {
        "id": "GmlaLr5qBfx9"
      }
    },
    {
      "cell_type": "markdown",
      "metadata": {
        "id": "aDeGfkt7qAQ3"
      },
      "source": [
        "In this notebook, we demonstrate the gradient-based optimization capability of SQcircuit. This can be used to optimize for a wide variety of loss functions including transverse and longitudinal sources of decoherence, flux and charge noise, and parameter sensitivity. In essence, any smooth and differentiable function that can be expressed in PyTorch can be optimized over. Here we focus on the specific case of optimizing a circuit parameters for a target optimization frequency $\\omega_{10}$."
      ]
    },
    {
      "cell_type": "markdown",
      "metadata": {
        "id": "WwdkAhuwqm2e"
      },
      "source": [
        "To begin using SQcircuit with backpropagation enabled, we first activate the PyTorch backend engine:"
      ]
    },
    {
      "cell_type": "code",
      "execution_count": 3,
      "metadata": {
        "id": "U1htshI3p1wa"
      },
      "outputs": [],
      "source": [
        "sq.set_engine('pytorch')"
      ]
    },
    {
      "cell_type": "markdown",
      "metadata": {
        "id": "Ybwz1nIjqv-I"
      },
      "source": [
        "In this example, we consider optimization over the fluxonium circuit as this includes all three fundamental quantum circuit elements (junction, capacitor, and inductor)."
      ]
    },
    {
      "cell_type": "markdown",
      "metadata": {
        "id": "-UBMU4dtrsHn"
      },
      "source": [
        "The circuit diagram looks like the following:\n",
        "\n",
        "<div>\n",
        "<img src=\"https://docs.google.com/uc?export=download&id=1SbtZeSiwBffC_yeRCLZiH8rkgrMEQ5ez\" width=\"300\"/>\n",
        "</div>"
      ]
    },
    {
      "cell_type": "markdown",
      "source": [
        "## Circuit Construction"
      ],
      "metadata": {
        "id": "qp-VJ2mfBl0-"
      }
    },
    {
      "cell_type": "markdown",
      "source": [
        "In the following cell, we define the circuit elements and create a fluxonium circuit from these elements:"
      ],
      "metadata": {
        "id": "qATY7kufBn9l"
      }
    },
    {
      "cell_type": "code",
      "execution_count": 4,
      "metadata": {
        "id": "3pTCJnhTrACb"
      },
      "outputs": [],
      "source": [
        "# Define loop\n",
        "loop = sq.Loop(0.5)\n",
        "\n",
        "# Define elements\n",
        "J = sq.Junction(13, 'GHz', loops=[loop], requires_grad = True)\n",
        "C = sq.Capacitor(5, 'fF', requires_grad = False)\n",
        "L = sq.Inductor(400, 'nH', loops=[loop], requires_grad = False)\n",
        "\n",
        "elements = {\n",
        "    (0, 1): [J, L, C],\n",
        "}\n",
        "\n",
        "# Create circuit from elements\n",
        "fluxonium = sq.Circuit(elements)\n",
        "fluxonium.set_trunc_nums([400, ])"
      ]
    },
    {
      "cell_type": "markdown",
      "metadata": {
        "id": "86uXz-kTshLD"
      },
      "source": [
        "The next step is to diagonalize the circuit. This returns the first $n$ eigenvalues and eigenvectors, which we can use to build a more complex loss function."
      ]
    },
    {
      "cell_type": "code",
      "execution_count": 5,
      "metadata": {
        "colab": {
          "base_uri": "https://localhost:8080/"
        },
        "id": "dtSukNBbqlaC",
        "outputId": "7660abc1-dd1b-43d9-814d-67ae5b29ea98"
      },
      "outputs": [
        {
          "output_type": "stream",
          "name": "stdout",
          "text": [
            "Eigenvalues shape: torch.Size([2])\n",
            "Eigenvectors shape: torch.Size([2, 400])\n"
          ]
        }
      ],
      "source": [
        "efreqs, evecs = fluxonium.diag(2)\n",
        "print(f\"Eigenvalues shape: {efreqs.shape}\")\n",
        "print(f\"Eigenvectors shape: {evecs.shape}\")"
      ]
    },
    {
      "cell_type": "markdown",
      "metadata": {
        "id": "LMkW88qos3xL"
      },
      "source": [
        "Let's start by printing the target operation frequency of our qubit:"
      ]
    },
    {
      "cell_type": "code",
      "execution_count": 6,
      "metadata": {
        "colab": {
          "base_uri": "https://localhost:8080/"
        },
        "id": "PNJmSZyZs6FS",
        "outputId": "291d721d-f34c-45f6-ad67-6352c18510b2"
      },
      "outputs": [
        {
          "output_type": "stream",
          "name": "stdout",
          "text": [
            "Starting frequency: 0.47366126676493847 GHz\n"
          ]
        }
      ],
      "source": [
        "def get_resonant_frequency(circuit):\n",
        "  eigenvalues, _ = circuit.diag(2)\n",
        "  omega = (eigenvalues[1] - eigenvalues[0])\n",
        "  return omega\n",
        "\n",
        "omega_10 = get_resonant_frequency(fluxonium)\n",
        "print(f\"Starting frequency: {omega_10} GHz\")"
      ]
    },
    {
      "cell_type": "markdown",
      "source": [
        "## Loss Function"
      ],
      "metadata": {
        "id": "9ugGBT0SDfdD"
      }
    },
    {
      "cell_type": "markdown",
      "metadata": {
        "id": "VIT52GFLssgb"
      },
      "source": [
        "We can now define our loss function in terms of the output $\\omega$, for a target operation frequency of $\\omega^*=2.4$ GHz. For consistency of units, we convert everything from GHz to Hz."
      ]
    },
    {
      "cell_type": "code",
      "execution_count": 7,
      "metadata": {
        "colab": {
          "base_uri": "https://localhost:8080/"
        },
        "id": "Wq1uwlJtsfGb",
        "outputId": "686f8cc7-8acb-431f-f5a8-d8830718c971"
      },
      "outputs": [
        {
          "output_type": "stream",
          "name": "stdout",
          "text": [
            "Initial loss: 3.7107809151620296e+18\n"
          ]
        }
      ],
      "source": [
        "omega_target = 2.4 # GHz\n",
        "\n",
        "def compute_loss(circuit, omega_target):\n",
        "  omega = get_resonant_frequency(circuit)\n",
        "  loss = (omega * 1e9 - omega_target * 1e9) ** 2\n",
        "  return loss\n",
        "\n",
        "initial_loss = compute_loss(fluxonium, omega_target)\n",
        "print(f\"Initial loss: {initial_loss}\")"
      ]
    },
    {
      "cell_type": "markdown",
      "source": [
        "## Optimization"
      ],
      "metadata": {
        "id": "_J7tCElXDgrJ"
      }
    },
    {
      "cell_type": "code",
      "execution_count": 8,
      "metadata": {
        "colab": {
          "base_uri": "https://localhost:8080/"
        },
        "id": "dj0-yj-6tkdF",
        "outputId": "880276d0-71ba-4e73-9879-6599e7eb3048"
      },
      "outputs": [
        {
          "output_type": "stream",
          "name": "stdout",
          "text": [
            "Epoch #0\n",
            "Frequency: 0.4736612667648523 GHz\n",
            "Loss: 3.710780915161389e+18\n",
            "J value: 81.68140899333463 GHz\n",
            "\n",
            "Epoch #1\n",
            "Frequency: 0.5214667184933206 GHz\n",
            "Loss: 3.528887289729588e+18\n",
            "J value: 77.50707158432472 GHz\n",
            "\n",
            "Epoch #2\n",
            "Frequency: 0.5798962526124578 GHz\n",
            "Loss: 3.3127776512542244e+18\n",
            "J value: 72.96279918337456 GHz\n",
            "\n",
            "Epoch #3\n",
            "Frequency: 0.6525354108932495 GHz\n",
            "Loss: 3.053632490181818e+18\n",
            "J value: 67.99200866924889 GHz\n",
            "\n",
            "Epoch #4\n",
            "Frequency: 0.7444802883780728 GHz\n",
            "Loss: 2.740745515568765e+18\n",
            "J value: 62.53320878125297 GHz\n",
            "\n",
            "Epoch #5\n",
            "Frequency: 0.8629123898121884 GHz\n",
            "Loss: 2.3626383213929697e+18\n",
            "J value: 56.52865836620672 GHz\n",
            "\n",
            "Epoch #6\n",
            "Frequency: 1.0174862833833502 GHz\n",
            "Loss: 1.911344176633038e+18\n",
            "J value: 49.94765369467019 GHz\n",
            "\n",
            "Epoch #7\n",
            "Frequency: 1.2193354509393375 GHz\n",
            "Loss: 1.39396877740846e+18\n",
            "J value: 42.8414709509897 GHz\n",
            "\n",
            "Epoch #8\n",
            "Frequency: 1.475287477098472 GHz\n",
            "Loss: 8.550932500105842e+17\n",
            "J value: 35.45479259236882 GHz\n",
            "\n",
            "Epoch #9\n",
            "Frequency: 1.7719446168517186 GHz\n",
            "Loss: 3.94453564301397e+17\n",
            "J value: 28.387441272633307 GHz\n",
            "\n",
            "Epoch #10\n",
            "Frequency: 2.05618940750906 GHz\n",
            "Loss: 1.182057235089934e+17\n",
            "J value: 22.622179695436735 GHz\n",
            "\n",
            "Epoch #11\n",
            "Frequency: 2.2559079734765803 GHz\n",
            "Loss: 2.07625121076148e+16\n",
            "J value: 18.99278536630952 GHz\n",
            "\n",
            "Epoch #12\n",
            "Frequency: 2.352189922196045 GHz\n",
            "Loss: 2285803539615405.0\n",
            "J value: 17.341856774088466 GHz\n",
            "\n",
            "Epoch #13\n",
            "Frequency: 2.386075936182288 GHz\n",
            "Loss: 193879553193138.62\n",
            "J value: 16.774324918142977 GHz\n",
            "\n",
            "Epoch #14\n",
            "Frequency: 2.396139654017426 GHz\n",
            "Loss: 14902271105484.361\n",
            "J value: 16.607062015608022 GHz\n",
            "\n",
            "Epoch #15\n",
            "Frequency: 2.398945674930653 GHz\n",
            "Loss: 1111601351419.9924\n",
            "J value: 16.560528181000734 GHz\n",
            "\n",
            "Epoch #16\n",
            "Frequency: 2.3997132564917583 GHz\n",
            "Loss: 82221839475.5245\n",
            "J value: 16.547806751163343 GHz\n",
            "\n",
            "Epoch #17\n",
            "Frequency: 2.399922104704455 GHz\n",
            "Loss: 6067677087.596071\n",
            "J value: 16.54434600778423 GHz\n",
            "\n",
            "Epoch #18\n",
            "Frequency: 2.3999788460068716 GHz\n",
            "Loss: 447491421.35839164\n",
            "J value: 16.543405812322785 GHz\n",
            "\n",
            "Epoch #19\n",
            "Frequency: 2.399994255709641 GHz\n",
            "Loss: 32996872.736718327\n",
            "J value: 16.543150478862508 GHz\n",
            "\n",
            "Epoch #20\n",
            "Frequency: 2.3999984401949113 GHz\n",
            "Loss: 2432992.05102728\n",
            "J value: 16.543081143616565 GHz\n",
            "\n",
            "Epoch #21\n",
            "Frequency: 2.3999995764531565 GHz\n",
            "Loss: 179391.92664353663\n",
            "J value: 16.543062316290765 GHz\n",
            "\n",
            "Epoch #22\n",
            "Frequency: 2.3999998849907658 GHz\n",
            "Loss: 13227.05676922403\n",
            "J value: 16.543057203948646 GHz\n",
            "\n",
            "Epoch #23\n",
            "Frequency: 2.399999968770554 GHz\n",
            "Loss: 975.283356432152\n",
            "J value: 16.543055815754794 GHz\n",
            "\n",
            "Epoch #24\n",
            "Frequency: 2.399999991519957 GHz\n",
            "Loss: 71.90888803284997\n",
            "J value: 16.54305543880464 GHz\n",
            "\n",
            "Epoch #25\n",
            "Frequency: 2.3999999976974653 GHz\n",
            "Loss: 5.302469211337893\n",
            "J value: 16.54305533644946 GHz\n",
            "\n",
            "Epoch #26\n",
            "Frequency: 2.399999999374852 GHz\n",
            "Loss: 0.3909045957973376\n",
            "J value: 16.543055308655042 GHz\n",
            "\n",
            "Epoch #27\n",
            "Frequency: 2.3999999998303263 GHz\n",
            "Loss: 0.028825658602954718\n",
            "J value: 16.5430553011084 GHz\n",
            "\n",
            "Epoch #28\n",
            "Frequency: 2.399999999954002 GHz\n",
            "Loss: 0.0021145529208297376\n",
            "J value: 16.543055299059088 GHz\n",
            "\n",
            "Epoch #29\n",
            "Frequency: 2.3999999999873145 GHz\n",
            "Loss: 0.00015727209756732918\n",
            "J value: 16.54305529850404 GHz\n",
            "\n",
            "Epoch #30\n",
            "Frequency: 2.3999999999966266 GHz\n",
            "Loss: 1.2457713637559209e-05\n",
            "J value: 16.54305529835267 GHz\n",
            "\n",
            "Epoch #31\n",
            "Frequency: 2.399999999999234 GHz\n",
            "Loss: 7.849312169128098e-07\n",
            "J value: 16.54305529831007 GHz\n",
            "\n",
            "Epoch #32\n",
            "Frequency: 2.3999999999997854 GHz\n",
            "Loss: 7.413314051518682e-08\n",
            "J value: 16.543055298299375 GHz\n",
            "\n",
            "Epoch #33\n",
            "Frequency: 2.4000000000001602 GHz\n",
            "Loss: 4.456524038687348e-09\n",
            "J value: 16.54305529829609 GHz\n",
            "\n",
            "Epoch #34\n",
            "Frequency: 2.4000000000001522 GHz\n",
            "Loss: 3.0595401767641306e-09\n",
            "J value: 16.543055298295283 GHz\n",
            "\n",
            "Epoch #35\n",
            "Frequency: 2.3999999999998747 GHz\n",
            "Loss: 1.8417267710901797e-09\n",
            "J value: 16.54305529829595 GHz\n",
            "\n",
            "Epoch #36\n",
            "Frequency: 2.399999999999966 GHz\n",
            "Loss: 4.584762791637331e-09\n",
            "J value: 16.54305529829647 GHz\n",
            "\n",
            "Epoch #37\n",
            "Frequency: 2.400000000000135 GHz\n",
            "Loss: 6.726622814312577e-09\n",
            "J value: 16.543055298295652 GHz\n",
            "\n",
            "Epoch #38\n",
            "Frequency: 2.3999999999999146 GHz\n",
            "Loss: 1.3315911928657442e-08\n",
            "J value: 16.54305529829466 GHz\n",
            "\n",
            "Epoch #39\n",
            "Frequency: 2.400000000000011 GHz\n",
            "Loss: 1.978719410544727e-08\n",
            "J value: 16.543055298296053 GHz\n",
            "\n",
            "Epoch #40\n",
            "Frequency: 2.4000000000000754 GHz\n",
            "Loss: 1.51349013322033e-08\n",
            "J value: 16.54305529829436 GHz\n",
            "\n",
            "Epoch #41\n",
            "Frequency: 2.3999999999999133 GHz\n",
            "Loss: 9.004224921227433e-09\n",
            "J value: 16.543055298295844 GHz\n",
            "\n",
            "Epoch #42\n",
            "Frequency: 2.3999999999999098 GHz\n",
            "Loss: 6.041091182851233e-09\n",
            "J value: 16.543055298296988 GHz\n",
            "\n",
            "Epoch #43\n",
            "Frequency: 2.4000000000000234 GHz\n",
            "Loss: 7.38737071515061e-10\n",
            "J value: 16.54305529829605 GHz\n",
            "\n",
            "Epoch #44\n",
            "Frequency: 2.40000000000007 GHz\n",
            "Loss: 1.2028067430946976e-10\n",
            "J value: 16.543055298296377 GHz\n",
            "\n",
            "Epoch #45\n",
            "Frequency: 2.3999999999999657 GHz\n",
            "Loss: 1.6698550098226406e-08\n",
            "J value: 16.543055298296245 GHz\n",
            "\n",
            "Epoch #46\n",
            "Frequency: 2.399999999999934 GHz\n",
            "Loss: 4.342132342571858e-08\n",
            "J value: 16.543055298297805 GHz\n",
            "\n",
            "Epoch #47\n",
            "Frequency: 2.400000000000165 GHz\n",
            "Loss: 1.7195134205394424e-08\n",
            "J value: 16.54305529829529 GHz\n",
            "\n",
            "Epoch #48\n",
            "Frequency: 2.3999999999999577 GHz\n",
            "Loss: 7.2041075327433646e-09\n",
            "J value: 16.543055298296874 GHz\n",
            "\n",
            "Epoch #49\n",
            "Frequency: 2.399999999999968 GHz\n",
            "Loss: 1.1408701539039612e-08\n",
            "J value: 16.543055298295847 GHz\n",
            "\n"
          ]
        }
      ],
      "source": [
        "fluxonium = sq.Circuit(elements)\n",
        "fluxonium.set_trunc_nums([400, ])\n",
        "fluxonium.diag(2)\n",
        "\n",
        "loss_record, J_record, frequency_record = [], [], []\n",
        "omega_initial = get_resonant_frequency(fluxonium)\n",
        "\n",
        "# Define optimizer\n",
        "optimizer = torch.optim.SGD(\n",
        "    fluxonium.parameters,\n",
        "    lr=1e2\n",
        ")\n",
        "\n",
        "for epoch in range(50):\n",
        "  optimizer.zero_grad()\n",
        "  print(f\"Epoch #{epoch}\")\n",
        "\n",
        "  # Compute qubit frequency\n",
        "  omega = get_resonant_frequency(fluxonium)\n",
        "  frequency_record.append(omega.detach().numpy())\n",
        "  print(f\"Frequency: {omega} GHz\")\n",
        "\n",
        "  # Compute loss\n",
        "  loss = compute_loss(fluxonium, omega_target)\n",
        "  loss_record.append(loss.detach().numpy())\n",
        "  print(f\"Loss: {loss}\")\n",
        "\n",
        "  # Extract junction value\n",
        "  J_value = J.get_value('GHz')\n",
        "  print(f\"J value: {J_value} GHz\\n\")\n",
        "  J_record.append(J_value.detach().numpy())\n",
        "\n",
        "  # Perform backprop\n",
        "  loss.backward()\n",
        "\n",
        "  # Update element params\n",
        "  optimizer.step()\n",
        "\n",
        "  # Update circuit\n",
        "  fluxonium.update()"
      ]
    },
    {
      "cell_type": "markdown",
      "source": [
        "Let's take a look at our results! We can first observe how the loss changes over time:"
      ],
      "metadata": {
        "id": "W03qG75HHalu"
      }
    },
    {
      "cell_type": "code",
      "source": [
        "# Plot loss values\n",
        "plt.xlabel('Iteration #')\n",
        "plt.ylabel('Loss Value')\n",
        "plt.plot(loss_record)"
      ],
      "metadata": {
        "colab": {
          "base_uri": "https://localhost:8080/",
          "height": 483
        },
        "id": "xlyXhnX7HaLT",
        "outputId": "c48eac70-e8d2-456c-f3c6-057e31eb774d"
      },
      "execution_count": 9,
      "outputs": [
        {
          "output_type": "execute_result",
          "data": {
            "text/plain": [
              "[<matplotlib.lines.Line2D at 0x7c337166dc00>]"
            ]
          },
          "metadata": {},
          "execution_count": 9
        },
        {
          "output_type": "display_data",
          "data": {
            "text/plain": [
              "<Figure size 640x480 with 1 Axes>"
            ],
            "image/png": "[encoded data removed]"
          },
          "metadata": {}
        }
      ]
    },
    {
      "cell_type": "markdown",
      "source": [
        "Then to ensure our circuit changes as intended as the loss function is reduced, we can also measure the convergence of our qubit frequency to the desired target frequency $\\omega_{10}$:"
      ],
      "metadata": {
        "id": "N0mplbSBI4bY"
      }
    },
    {
      "cell_type": "code",
      "source": [
        "# Plot junction value vs. qubit frequency\n",
        "fig, ax1 = plt.subplots()\n",
        "\n",
        "color = 'tab:purple'\n",
        "ax1.set_xlabel('Iteration #')\n",
        "ax1.set_ylabel('Junction Value (GHz)', color=color)\n",
        "ax1.plot(J_record, color=color)\n",
        "ax1.tick_params(axis='y', labelcolor=color)\n",
        "\n",
        "ax2 = ax1.twinx()\n",
        "\n",
        "color = 'tab:green'\n",
        "ax2.set_ylabel(r'Qubit Frequency $\\omega_{10}$', color=color)\n",
        "ax2.axhline(y=omega_target, xmin=0, xmax=50,\n",
        "            color='tab:orange', ls='--', label=r'Target Frequency $\\omega^*$')\n",
        "ax2.plot(frequency_record, color=color)\n",
        "ax2.tick_params(axis='y', labelcolor=color)\n",
        "ax2.legend(loc='center right')\n",
        "\n",
        "fig.tight_layout()\n",
        "plt.show()"
      ],
      "metadata": {
        "colab": {
          "base_uri": "https://localhost:8080/",
          "height": 487
        },
        "id": "5SZRbFspI1d9",
        "outputId": "74ac54b6-eb97-431b-e512-5e497d719127"
      },
      "execution_count": 10,
      "outputs": [
        {
          "output_type": "display_data",
          "data": {
            "text/plain": [
              "<Figure size 640x480 with 2 Axes>"
            ],
            "image/png": "[encoded data removed]"
          },
          "metadata": {}
        }
      ]
    },
    {
      "cell_type": "code",
      "source": [],
      "metadata": {
        "id": "OLRvkmz2C-iV"
      },
      "execution_count": null,
      "outputs": []
    }
  ],
  "metadata": {
    "colab": {
      "provenance": []
    },
    "kernelspec": {
      "display_name": "Python 3",
      "name": "python3"
    },
    "language_info": {
      "name": "python"
    }
  },
  "nbformat": 4,
  "nbformat_minor": 0
}