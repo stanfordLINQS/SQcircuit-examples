{
  "cells": [
    {
      "cell_type": "markdown",
      "metadata": {
        "id": "EHS8-N75-_zs"
      },
      "source": [
        "# Gradient-Based Optimization"
      ]
    },
    {
      "cell_type": "code",
      "execution_count": 1,
      "metadata": {
        "id": "C8pPSU2Wp0b6"
      },
      "outputs": [],
      "source": [
        "import SQcircuit as sq\n",
        "\n",
        "import torch\n",
        "from matplotlib import pyplot as plt"
      ]
    },
    {
      "cell_type": "markdown",
      "metadata": {
        "id": "GmlaLr5qBfx9"
      },
      "source": [
        "## Introduction"
      ]
    },
    {
      "cell_type": "markdown",
      "metadata": {
        "id": "aDeGfkt7qAQ3"
      },
      "source": [
        "In this notebook, we demonstrate the gradient-based optimization capability of `SQcircuit`. This can be used to optimize a wide variety of targets including decoherence/dephasing rates, flux and charge dispersion, and coupling strengths. In short, any differentiable function of the circuit's eigenfrequencies/vectors or element values that can be expressed in PyTorch may be optimized over. \n",
        "\n",
        "Here we focus on the specific case of optimizing a circuit's parameters for a target operation frequency $\\omega^*_{10}$."
      ]
    },
    {
      "cell_type": "markdown",
      "metadata": {
        "id": "WwdkAhuwqm2e"
      },
      "source": [
        "To begin using SQcircuit with backpropagation enabled, we first activate the PyTorch engine:"
      ]
    },
    {
      "cell_type": "code",
      "execution_count": 2,
      "metadata": {
        "id": "U1htshI3p1wa"
      },
      "outputs": [],
      "source": [
        "sq.set_engine('PyTorch')"
      ]
    },
    {
      "cell_type": "markdown",
      "metadata": {
        "id": "Ybwz1nIjqv-I"
      },
      "source": [
        "In this notebook, we consider optimization over a fluxonium circuit. The circuit diagram looks like the following:\n",
        "\n",
        "<div align=\"center\">\n",
        "<img src=\"pics/Fluxonium.png\" width=\"300\"/>\n",
        "</div>"
      ]
    },
    {
      "cell_type": "markdown",
      "metadata": {
        "id": "qp-VJ2mfBl0-"
      },
      "source": [
        "## Circuit Construction"
      ]
    },
    {
      "cell_type": "markdown",
      "metadata": {
        "id": "qATY7kufBn9l"
      },
      "source": [
        "In the following cell, we define the circuit elements and create a fluxonium circuit from these elements.\n",
        "\n",
        "The `requires_grad` attribute of each element defines whether we will optimize over that element's value later. In this example, we only optimize over the value of the junction."
      ]
    },
    {
      "cell_type": "code",
      "execution_count": 3,
      "metadata": {
        "id": "3pTCJnhTrACb"
      },
      "outputs": [],
      "source": [
        "# Define loop\n",
        "loop = sq.Loop(0.5, requires_grad = False)\n",
        "\n",
        "# Define elements\n",
        "J = sq.Junction(13, 'GHz', loops = [loop], requires_grad = True)\n",
        "C = sq.Capacitor(5, 'fF', requires_grad = False)\n",
        "L = sq.Inductor(400, 'nH', loops = [loop], requires_grad = False)\n",
        "\n",
        "elements = {\n",
        "    (0, 1): [J, L, C],\n",
        "}\n",
        "\n",
        "# Create circuit from elements\n",
        "fluxonium = sq.Circuit(elements)\n",
        "fluxonium.set_trunc_nums([400, ])"
      ]
    },
    {
      "cell_type": "code",
      "execution_count": 4,
      "metadata": {},
      "outputs": [
        {
          "data": {
            "text/plain": [
              "[tensor(8.1681e+10, dtype=torch.float64, requires_grad=True)]"
            ]
          },
          "execution_count": 4,
          "metadata": {},
          "output_type": "execute_result"
        }
      ],
      "source": [
        "fluxonium.parameters"
      ]
    },
    {
      "cell_type": "markdown",
      "metadata": {
        "id": "86uXz-kTshLD"
      },
      "source": [
        "The next step is to diagonalize the circuit. This returns the first $n=2$ eigenvalues and eigenvectors, which we can use to build a more complex loss function."
      ]
    },
    {
      "cell_type": "code",
      "execution_count": 5,
      "metadata": {
        "colab": {
          "base_uri": "https://localhost:8080/"
        },
        "id": "dtSukNBbqlaC",
        "outputId": "7660abc1-dd1b-43d9-814d-67ae5b29ea98"
      },
      "outputs": [
        {
          "name": "stdout",
          "output_type": "stream",
          "text": [
            "Eigenvalues shape: torch.Size([2])\n",
            "Eigenvectors shape: torch.Size([2, 400])\n"
          ]
        }
      ],
      "source": [
        "efreqs, evecs = fluxonium.diag(2)\n",
        "print(f\"Eigenvalues shape: {efreqs.shape}\")\n",
        "print(f\"Eigenvectors shape: {evecs.shape}\")"
      ]
    },
    {
      "cell_type": "markdown",
      "metadata": {
        "id": "LMkW88qos3xL"
      },
      "source": [
        "Let's start by printing the target operation frequency of our qubit:"
      ]
    },
    {
      "cell_type": "code",
      "execution_count": 6,
      "metadata": {
        "colab": {
          "base_uri": "https://localhost:8080/"
        },
        "id": "PNJmSZyZs6FS",
        "outputId": "291d721d-f34c-45f6-ad67-6352c18510b2"
      },
      "outputs": [
        {
          "name": "stdout",
          "output_type": "stream",
          "text": [
            "Starting frequency: 0.4736612667648745 GHz\n"
          ]
        }
      ],
      "source": [
        "def get_resonant_frequency(circuit):\n",
        "  eigenvalues, _ = circuit.diag(2)\n",
        "  omega = (eigenvalues[1] - eigenvalues[0])\n",
        "  return omega\n",
        "\n",
        "omega_10 = get_resonant_frequency(fluxonium)\n",
        "print(f\"Starting frequency: {omega_10} GHz\")"
      ]
    },
    {
      "cell_type": "markdown",
      "metadata": {
        "id": "9ugGBT0SDfdD"
      },
      "source": [
        "## Loss Function"
      ]
    },
    {
      "cell_type": "markdown",
      "metadata": {
        "id": "VIT52GFLssgb"
      },
      "source": [
        "We can now define our loss function in terms of the output $\\omega$, for a target operation frequency of $\\omega^*=2.4$ GHz. For consistency, we convert everything from GHz to Hz."
      ]
    },
    {
      "cell_type": "code",
      "execution_count": 7,
      "metadata": {
        "colab": {
          "base_uri": "https://localhost:8080/"
        },
        "id": "Wq1uwlJtsfGb",
        "outputId": "686f8cc7-8acb-431f-f5a8-d8830718c971"
      },
      "outputs": [
        {
          "name": "stdout",
          "output_type": "stream",
          "text": [
            "Initial loss: 3.710780915162121e+18\n"
          ]
        }
      ],
      "source": [
        "omega_target = 2.4 # GHz\n",
        "\n",
        "def compute_loss(circuit, omega_target):\n",
        "  omega = get_resonant_frequency(circuit)\n",
        "  loss = (omega * 1e9 - omega_target * 1e9) ** 2\n",
        "  return loss\n",
        "\n",
        "initial_loss = compute_loss(fluxonium, omega_target)\n",
        "print(f\"Initial loss: {initial_loss}\")"
      ]
    },
    {
      "cell_type": "markdown",
      "metadata": {
        "id": "_J7tCElXDgrJ"
      },
      "source": [
        "## Optimization"
      ]
    },
    {
      "cell_type": "markdown",
      "metadata": {},
      "source": [
        "The circuit stores the values of all its component elements which require gradient in its `.parameters` attribute. These are the values of the circuit which can be optimized.\n",
        "\n",
        "In this case, that's just the junction."
      ]
    },
    {
      "cell_type": "code",
      "execution_count": 8,
      "metadata": {},
      "outputs": [
        {
          "data": {
            "text/plain": [
              "[tensor(8.1681e+10, dtype=torch.float64, requires_grad=True)]"
            ]
          },
          "execution_count": 8,
          "metadata": {},
          "output_type": "execute_result"
        }
      ],
      "source": [
        "fluxonium.parameters"
      ]
    },
    {
      "cell_type": "markdown",
      "metadata": {},
      "source": [
        "Using the loss function `compute_loss` defined above, we optimize `fluxonium.parameters` using PyTorch's SGD optimizer. See PyTorch's [documentation](https://pytorch.org/docs/stable/optim.html) for more information on how to use the optimizers."
      ]
    },
    {
      "cell_type": "code",
      "execution_count": 9,
      "metadata": {
        "colab": {
          "base_uri": "https://localhost:8080/"
        },
        "id": "dj0-yj-6tkdF",
        "outputId": "880276d0-71ba-4e73-9879-6599e7eb3048"
      },
      "outputs": [
        {
          "name": "stdout",
          "output_type": "stream",
          "text": [
            "Iteration #0\n",
            "J value: 81.68140899333463 GHz\n",
            "Frequency: 0.4736612667648741 GHz\n",
            "Loss: 3.7107809151619763e+18\n",
            "\n",
            "Iteration #1\n",
            "J value: 77.50707158432445 GHz\n",
            "Frequency: 0.5214667184930293 GHz\n",
            "Loss: 3.5288872897289953e+18\n",
            "\n",
            "Iteration #2\n",
            "J value: 72.96279918337451 GHz\n",
            "Frequency: 0.5798962526125435 GHz\n",
            "Loss: 3.3127776512534984e+18\n",
            "\n",
            "Iteration #3\n",
            "J value: 67.99200866924963 GHz\n",
            "Frequency: 0.6525354108932899 GHz\n",
            "Loss: 3.0536324901815644e+18\n",
            "\n",
            "Iteration #4\n",
            "J value: 62.533208781254146 GHz\n",
            "Frequency: 0.7444802883780293 GHz\n",
            "Loss: 2.7407455155688074e+18\n",
            "\n",
            "Iteration #5\n",
            "J value: 56.52865836620794 GHz\n",
            "Frequency: 0.8629123898121358 GHz\n",
            "Loss: 2.362638321393239e+18\n",
            "\n",
            "Iteration #6\n",
            "J value: 49.947653694671075 GHz\n",
            "Frequency: 1.0174862833834641 GHz\n",
            "Loss: 1.9113441766323182e+18\n",
            "\n",
            "Iteration #7\n",
            "J value: 42.84147095099205 GHz\n",
            "Frequency: 1.2193354509392225 GHz\n",
            "Loss: 1.3939687774088494e+18\n",
            "\n",
            "Iteration #8\n",
            "J value: 35.4547925923707 GHz\n",
            "Frequency: 1.4752874770986604 GHz\n",
            "Loss: 8.5509325001072e+17\n",
            "\n",
            "Iteration #9\n",
            "J value: 28.38744127263503 GHz\n",
            "Frequency: 1.7719446168517914 GHz\n",
            "Loss: 3.944535643013503e+17\n",
            "\n",
            "Iteration #10\n",
            "J value: 22.622179695439097 GHz\n",
            "Frequency: 2.056189407508858 GHz\n",
            "Loss: 1.1820572350901931e+17\n",
            "\n",
            "Iteration #11\n",
            "J value: 18.992785366311647 GHz\n",
            "Frequency: 2.2559079734764733 GHz\n",
            "Loss: 2.076251210763253e+16\n",
            "\n",
            "Iteration #12\n",
            "J value: 17.34185677408996 GHz\n",
            "Frequency: 2.3521899221961027 GHz\n",
            "Loss: 2285803539624387.0\n",
            "\n",
            "Iteration #13\n",
            "J value: 16.774324918143368 GHz\n",
            "Frequency: 2.3860759361822965 GHz\n",
            "Loss: 193879553201504.4\n",
            "\n",
            "Iteration #14\n",
            "J value: 16.6070620156048 GHz\n",
            "Frequency: 2.396139654017515 GHz\n",
            "Loss: 14902271103385.898\n",
            "\n",
            "Iteration #15\n",
            "J value: 16.56052818100078 GHz\n",
            "Frequency: 2.3989456749308338 GHz\n",
            "Loss: 1111601351676.3906\n",
            "\n",
            "Iteration #16\n",
            "J value: 16.547806751161925 GHz\n",
            "Frequency: 2.3997132564919466 GHz\n",
            "Loss: 82221839417.00409\n",
            "\n",
            "Iteration #17\n",
            "J value: 16.544346007784043 GHz\n",
            "Frequency: 2.3999221047043657 GHz\n",
            "Loss: 6067677030.246705\n",
            "\n",
            "Iteration #18\n",
            "J value: 16.543405812327045 GHz\n",
            "Frequency: 2.3999788460066243 GHz\n",
            "Loss: 447491435.0565512\n",
            "\n",
            "Iteration #19\n",
            "J value: 16.543150478862856 GHz\n",
            "Frequency: 2.3999942557096587 GHz\n",
            "Loss: 32996872.39707103\n",
            "\n",
            "Iteration #20\n",
            "J value: 16.54308114361727 GHz\n",
            "Frequency: 2.399998440194853 GHz\n",
            "Loss: 2432991.7862440823\n",
            "\n",
            "Iteration #21\n",
            "J value: 16.543062316292495 GHz\n",
            "Frequency: 2.3999995764530486 GHz\n",
            "Loss: 179392.0781157227\n",
            "\n",
            "Iteration #22\n",
            "J value: 16.543057203948216 GHz\n",
            "Frequency: 2.399999884990991 GHz\n",
            "Loss: 13227.086492811854\n",
            "\n",
            "Iteration #23\n",
            "J value: 16.543055815752805 GHz\n",
            "Frequency: 2.3999999687707256 GHz\n",
            "Loss: 975.2693585674081\n",
            "\n",
            "Iteration #24\n",
            "J value: 16.543055438805354 GHz\n",
            "Frequency: 2.39999999152012 GHz\n",
            "Loss: 71.9111686055694\n",
            "\n",
            "Iteration #25\n",
            "J value: 16.543055336448553 GHz\n",
            "Frequency: 2.3999999976974022 GHz\n",
            "Loss: 5.301792854272435\n",
            "\n",
            "Iteration #26\n",
            "J value: 16.54305530865591 GHz\n",
            "Frequency: 2.399999999374764 GHz\n",
            "Loss: 0.3909421610624122\n",
            "\n",
            "Iteration #27\n",
            "J value: 16.5430553011089 GHz\n",
            "Frequency: 2.3999999998301362 GHz\n",
            "Loss: 0.028823391823834754\n",
            "\n",
            "Iteration #28\n",
            "J value: 16.54305529905967 GHz\n",
            "Frequency: 2.3999999999539687 GHz\n",
            "Loss: 0.002135743380677013\n",
            "\n",
            "Iteration #29\n",
            "J value: 16.54305529850185 GHz\n",
            "Frequency: 2.399999999987588 GHz\n",
            "Loss: 0.00015187743542810495\n",
            "\n",
            "Iteration #30\n",
            "J value: 16.5430552983531 GHz\n",
            "Frequency: 2.3999999999964863 GHz\n",
            "Loss: 1.2004137715848628e-05\n",
            "\n",
            "Iteration #31\n",
            "J value: 16.543055298311277 GHz\n",
            "Frequency: 2.3999999999988906 GHz\n",
            "Loss: 5.597396466328064e-07\n",
            "\n",
            "Iteration #32\n",
            "J value: 16.543055298302246 GHz\n",
            "Frequency: 2.39999999999966 GHz\n",
            "Loss: 1.0329040378564969e-07\n",
            "\n",
            "Iteration #33\n",
            "J value: 16.543055298298366 GHz\n",
            "Frequency: 2.3999999999998565 GHz\n",
            "Loss: 2.8978547561564483e-08\n",
            "\n",
            "Iteration #34\n",
            "J value: 16.543055298296313 GHz\n",
            "Frequency: 2.400000000000065 GHz\n",
            "Loss: 3.961758920922875e-09\n",
            "\n",
            "Iteration #35\n",
            "J value: 16.543055298297073 GHz\n",
            "Frequency: 2.3999999999999164 GHz\n",
            "Loss: 2.5822600946412422e-08\n",
            "\n",
            "Iteration #36\n",
            "J value: 16.543055298299013 GHz\n",
            "Frequency: 2.3999999999999413 GHz\n",
            "Loss: 9.488667274126783e-08\n",
            "\n",
            "Iteration #37\n",
            "J value: 16.543055298295293 GHz\n",
            "Frequency: 2.4000000000000212 GHz\n",
            "Loss: 7.38737071515061e-10\n",
            "\n",
            "Iteration #38\n",
            "J value: 16.543055298295624 GHz\n",
            "Frequency: 2.4000000000000923 GHz\n",
            "Loss: 3.783725333050825e-09\n",
            "\n",
            "Iteration #39\n",
            "J value: 16.543055298296363 GHz\n",
            "Frequency: 2.399999999999968 GHz\n",
            "Loss: 1.178705133497715e-09\n",
            "\n",
            "Iteration #40\n",
            "J value: 16.54305529829678 GHz\n",
            "Frequency: 2.4000000000000656 GHz\n",
            "Loss: 1.924490788951516e-09\n",
            "\n",
            "Iteration #41\n",
            "J value: 16.543055298297308 GHz\n",
            "Frequency: 2.399999999999794 GHz\n",
            "Loss: 6.87805368215777e-10\n",
            "\n",
            "Iteration #42\n",
            "J value: 16.54305529829699 GHz\n",
            "Frequency: 2.3999999999999804 GHz\n",
            "Loss: 5.2532413974404335e-09\n",
            "\n",
            "Iteration #43\n",
            "J value: 16.543055298296117 GHz\n",
            "Frequency: 2.400000000000036 GHz\n",
            "Loss: 1.114131009671837e-09\n",
            "\n",
            "Iteration #44\n",
            "J value: 16.543055298295712 GHz\n",
            "Frequency: 2.400000000000068 GHz\n",
            "Loss: 2.1290361473802477e-08\n",
            "\n",
            "Iteration #45\n",
            "J value: 16.543055298297475 GHz\n",
            "Frequency: 2.400000000000067 GHz\n",
            "Loss: 1.3096723705530167e-10\n",
            "\n",
            "Iteration #46\n",
            "J value: 16.543055298297336 GHz\n",
            "Frequency: 2.399999999999955 GHz\n",
            "Loss: 5.047922968515195e-09\n",
            "\n",
            "Iteration #47\n",
            "J value: 16.54305529829648 GHz\n",
            "Frequency: 2.4000000000000377 GHz\n",
            "Loss: 8.185452315956354e-10\n",
            "\n",
            "Iteration #48\n",
            "J value: 16.54305529829613 GHz\n",
            "Frequency: 2.3999999999998827 GHz\n",
            "Loss: 3.2741809263825417e-09\n",
            "\n",
            "Iteration #49\n",
            "J value: 16.543055298295442 GHz\n",
            "Frequency: 2.3999999999999395 GHz\n",
            "Loss: 7.2041075327433646e-09\n",
            "\n"
          ]
        }
      ],
      "source": [
        "# Initialize the optimizer with the fluxonium's parameters (the JJ value)\n",
        "optimizer = torch.optim.SGD(\n",
        "    fluxonium.parameters,\n",
        "    lr=1e2\n",
        ")\n",
        "\n",
        "# Save a record of the loss, junction value, and qubit frequency at each\n",
        "# iteration.\n",
        "loss_record, J_record, frequency_record = [], [], []\n",
        "\n",
        "for epoch in range(50):\n",
        "  # Print current iteration\n",
        "  print(f\"Iteration #{epoch}\")\n",
        "  # and current junction value\n",
        "  J_value = J.get_value('GHz')\n",
        "  print(f\"J value: {J_value} GHz\")\n",
        "  J_record.append(J_value.detach().numpy())\n",
        "\n",
        "  # Zero the gradient from the previous iteration\n",
        "  optimizer.zero_grad()\n",
        "  \n",
        "  # Compute qubit frequency\n",
        "  omega = get_resonant_frequency(fluxonium)\n",
        "  frequency_record.append(omega.detach().numpy())\n",
        "  print(f\"Frequency: {omega} GHz\")\n",
        "\n",
        "  # Compute loss\n",
        "  loss = compute_loss(fluxonium, omega_target)\n",
        "  loss_record.append(loss.detach().numpy())\n",
        "  print(f\"Loss: {loss}\\n\")\n",
        "\n",
        "  # Perform backpropagation\n",
        "  loss.backward()\n",
        "\n",
        "  # Step the optimizer. The will change the junction value.\n",
        "  optimizer.step()\n",
        "\n",
        "  # After changing the value of the element, we need to recompute the\n",
        "  # circuit, which is done by calling `.update()`.\n",
        "  fluxonium.update()"
      ]
    },
    {
      "cell_type": "markdown",
      "metadata": {
        "id": "W03qG75HHalu"
      },
      "source": [
        "Let's take a look at our results! We can first observe how the loss changes over time:"
      ]
    },
    {
      "cell_type": "code",
      "execution_count": 10,
      "metadata": {
        "colab": {
          "base_uri": "https://localhost:8080/",
          "height": 483
        },
        "id": "xlyXhnX7HaLT",
        "outputId": "c48eac70-e8d2-456c-f3c6-057e31eb774d"
      },
      "outputs": [
        {
          "data": {
            "text/plain": [
              "[<matplotlib.lines.Line2D at 0x16b030830>]"
            ]
          },
          "execution_count": 10,
          "metadata": {},
          "output_type": "execute_result"
        },
        {
          "data": {
            "image/png": "[encoded data removed]",
            "text/plain": [
              "<Figure size 640x480 with 1 Axes>"
            ]
          },
          "metadata": {},
          "output_type": "display_data"
        }
      ],
      "source": [
        "# Plot loss values\n",
        "plt.xlabel('Iteration #')\n",
        "plt.ylabel('Loss Value')\n",
        "plt.plot(loss_record)"
      ]
    },
    {
      "cell_type": "markdown",
      "metadata": {
        "id": "N0mplbSBI4bY"
      },
      "source": [
        "Then to ensure our circuit changes as intended as the loss function is reduced, we can also measure the convergence of our qubit frequency to the desired target frequency $\\omega^*_{10} = 2.4$ GHz, and look at how $E_J$ is optimized to achieve that:"
      ]
    },
    {
      "cell_type": "code",
      "execution_count": 11,
      "metadata": {
        "colab": {
          "base_uri": "https://localhost:8080/",
          "height": 487
        },
        "id": "5SZRbFspI1d9",
        "outputId": "74ac54b6-eb97-431b-e512-5e497d719127"
      },
      "outputs": [
        {
          "data": {
            "image/png": "[encoded data removed]",
            "text/plain": [
              "<Figure size 640x480 with 2 Axes>"
            ]
          },
          "metadata": {},
          "output_type": "display_data"
        }
      ],
      "source": [
        "# Plot junction value vs. qubit frequency\n",
        "fig, ax1 = plt.subplots()\n",
        "\n",
        "color = 'tab:purple'\n",
        "ax1.set_xlabel('Iteration #')\n",
        "ax1.set_ylabel('Junction Value (GHz)', color=color)\n",
        "ax1.plot(J_record, color=color)\n",
        "ax1.tick_params(axis='y', labelcolor=color)\n",
        "\n",
        "ax2 = ax1.twinx()\n",
        "\n",
        "color = 'tab:green'\n",
        "ax2.set_ylabel(r'Qubit Frequency $\\omega_{10}$', color=color)\n",
        "ax2.axhline(y=omega_target, xmin=0, xmax=50,\n",
        "            color='tab:orange', ls='--', label=r'Target Frequency $\\omega^*$')\n",
        "ax2.plot(frequency_record, color=color)\n",
        "ax2.tick_params(axis='y', labelcolor=color)\n",
        "ax2.legend(loc='center right')\n",
        "\n",
        "fig.tight_layout()\n",
        "plt.show()"
      ]
    }
  ],
  "metadata": {
    "colab": {
      "provenance": []
    },
    "kernelspec": {
      "display_name": "Python 3",
      "name": "python3"
    },
    "language_info": {
      "codemirror_mode": {
        "name": "ipython",
        "version": 3
      },
      "file_extension": ".py",
      "mimetype": "text/x-python",
      "name": "python",
      "nbconvert_exporter": "python",
      "pygments_lexer": "ipython3",
      "version": "3.12.2"
    }
  },
  "nbformat": 4,
  "nbformat_minor": 0
}
