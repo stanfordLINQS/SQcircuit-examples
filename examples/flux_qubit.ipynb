{
 "cells": [
  {
   "cell_type": "markdown",
   "metadata": {},
   "source": [
    "# Flux Qubit (3JJ + L)"
   ]
  },
  {
   "cell_type": "markdown",
   "metadata": {},
   "source": [
    "##  Introduction "
   ]
  },
  {
   "cell_type": "markdown",
   "metadata": {},
   "source": [
    "Calculating the flux-tuning eigenvalues for a three-junction flux qubit incorporating nonzero linear loop inductance. The goal is to compare SQcircuit's solution to a case-specific solution following the two papers mentioned below.\n",
    "\n",
    "Reference for circuit model and parameters: https://journals.aps.org/prb/abstract/10.1103/PhysRevB.73.174526"
   ]
  },
  {
   "cell_type": "markdown",
   "metadata": {},
   "source": [
    "<img src=\"pics/fluxQubit_pic1.png\" width=\"230\" align=\"left\" />"
   ]
  },
  {
   "cell_type": "markdown",
   "metadata": {},
   "source": [
    "Note:\n",
    "\n",
    "2D Brillouin zone for periodic coordinates used an incorrect unit cell of 2x the correct size, leading to parasitic doublets in the low spectrum (with both curves of a doublet close to the correct single curve), and large deviations in the high spectrum. This error was mentioned and corrected by Yamamoto et. al. NJP 2014: https://iopscience.iop.org/article/10.1088/1367-2630/16/1/015017/pdf"
   ]
  },
  {
   "cell_type": "code",
   "execution_count": 1,
   "metadata": {},
   "outputs": [],
   "source": [
    "# Setup\n",
    "import SQcircuit as sq\n",
    "import numpy as np\n",
    "import matplotlib.pyplot as plt"
   ]
  },
  {
   "cell_type": "markdown",
   "metadata": {},
   "source": [
    "First we calculate the value of the circuit components from paper:"
   ]
  },
  {
   "cell_type": "code",
   "execution_count": 2,
   "metadata": {},
   "outputs": [],
   "source": [
    "# Fundamental constants\n",
    "h    = 6.626e-34\n",
    "GHz = 1e9\n",
    "e0   = 1.602e-19\n",
    "phi0 = h/(2*e0)\n",
    "phi0_red = phi0/2/np.pi\n",
    "\n",
    "# Circuit parameters in paper's convention\n",
    "EJ = 50.0 * GHz * h\n",
    "EC = 1.0 * GHz * h\n",
    "αQ = 0.63\n",
    "βQ = 0.15\n",
    "κQ = 0.00\n",
    "σQ = 0.00"
   ]
  },
  {
   "cell_type": "code",
   "execution_count": 3,
   "metadata": {},
   "outputs": [],
   "source": [
    "# Pre-convert to explicit circuit elements for checking values\n",
    "L_val   = βQ*(phi0_red**2/EJ)*(1/(1+κQ) + 1/(1-κQ) + 1/αQ)\n",
    "C1_val  = (e0**2/(2*EC))*(1+κQ)\n",
    "C2_val  = (e0**2/(2*EC))*(1-κQ)\n",
    "C3_val  = (e0**2/(2*EC))*(αQ)\n",
    "JJ1_val = EJ/h*(1+κQ)\n",
    "JJ2_val = EJ/h*(1-κQ)\n",
    "JJ3_val = EJ/h*(αQ)"
   ]
  },
  {
   "cell_type": "markdown",
   "metadata": {},
   "source": [
    "## Circuit Description"
   ]
  },
  {
   "cell_type": "code",
   "execution_count": 4,
   "metadata": {},
   "outputs": [],
   "source": [
    "# Initialize loop(s)\n",
    "loop1 = sq.Loop(0.0) # \"Value\" corresponds to phiExt / phi0 threading the loop (can change later)"
   ]
  },
  {
   "cell_type": "code",
   "execution_count": 5,
   "metadata": {},
   "outputs": [],
   "source": [
    "# Create circuit\n",
    "L  = sq.Inductor(L_val, 'H', loops=[loop1]) \n",
    "C1 = sq.Capacitor(C1_val, 'F')\n",
    "C2 = sq.Capacitor(C2_val, 'F')\n",
    "C3 = sq.Capacitor(C3_val, 'F')\n",
    "JJ1 = sq.Junction(JJ1_val, 'Hz', loops=[loop1]) \n",
    "JJ2 = sq.Junction(JJ2_val, 'Hz', loops=[loop1])\n",
    "JJ3 = sq.Junction(JJ3_val, 'Hz', loops=[loop1])\n",
    "\n",
    "elements = {\n",
    "    (0, 1): [JJ1, C1], # Only include C_j if not included in JJ_j object\n",
    "    (1, 2): [JJ2, C2],\n",
    "    (2, 3): [JJ3, C3],\n",
    "    (0, 3): [L]\n",
    "}\n",
    "\n",
    "cr1 = sq.Circuit(elements)"
   ]
  },
  {
   "cell_type": "code",
   "execution_count": 6,
   "metadata": {
    "scrolled": true
   },
   "outputs": [
    {
     "data": {
      "text/latex": [
       "$\\hat{H} =~\\omega_1\\hat a^\\dagger_1\\hat a_1~+~E_{C_{22}}(\\hat{n}_2-n_{g_{2}})^2~+~E_{C_{23}}(\\hat{n}_2-n_{g_{2}})(\\hat{n}_3-n_{g_{3}})~+~E_{C_{33}}(\\hat{n}_3-n_{g_{3}})^2~+~E_{J_{1}}\\cos(-0.63\\hat{\\varphi}_1+\\hat{\\varphi}_2+0.33\\varphi_{\\text{ext}_{1}})~+~E_{J_{2}}\\cos(0.63\\hat{\\varphi}_1+\\hat{\\varphi}_3-0.33\\varphi_{\\text{ext}_{1}})~+~E_{J_{3}}\\cos(\\hat{\\varphi}_1+\\hat{\\varphi}_2-\\hat{\\varphi}_3-0.33\\varphi_{\\text{ext}_{1}})~$"
      ],
      "text/plain": [
       "<IPython.core.display.Latex object>"
      ]
     },
     "metadata": {},
     "output_type": "display_data"
    },
    {
     "data": {
      "text/latex": [
       "$------------------------------------------------------------$"
      ],
      "text/plain": [
       "<IPython.core.display.Latex object>"
      ]
     },
     "metadata": {},
     "output_type": "display_data"
    },
    {
     "data": {
      "text/latex": [
       "$\\text{mode}~1:~~~~~~~~~~~\\text{harmonic}~~~~~~~~~~~\\hat{\\varphi}_1~=~\\varphi_{zp_{1}}(\\hat a_1+\\hat a^\\dagger_1)~~~~~~~~~~~\\omega_1/2\\pi~=~51.63971~~~~~~~~~~~\\varphi_{zp_{1}}~=~2.33e-01$"
      ],
      "text/plain": [
       "<IPython.core.display.Latex object>"
      ]
     },
     "metadata": {},
     "output_type": "display_data"
    },
    {
     "data": {
      "text/latex": [
       "$\\text{mode}~2:~~~~~~~~~~~\\text{charge}~~~~~~~~~~~~~~~~n_{g_{2}}~=~0$"
      ],
      "text/plain": [
       "<IPython.core.display.Latex object>"
      ]
     },
     "metadata": {},
     "output_type": "display_data"
    },
    {
     "data": {
      "text/latex": [
       "$\\text{mode}~3:~~~~~~~~~~~\\text{charge}~~~~~~~~~~~~~~~~n_{g_{3}}~=~0$"
      ],
      "text/plain": [
       "<IPython.core.display.Latex object>"
      ]
     },
     "metadata": {},
     "output_type": "display_data"
    },
    {
     "data": {
      "text/latex": [
       "$------------------------------------------------------------$"
      ],
      "text/plain": [
       "<IPython.core.display.Latex object>"
      ]
     },
     "metadata": {},
     "output_type": "display_data"
    },
    {
     "data": {
      "text/latex": [
       "$\\text{parameters}:~~~~~~~~~~~E_{C_{22}}~=~2.886~~~~~~~~~~~E_{C_{23}}~=~2.231~~~~~~~~~~~E_{C_{33}}~=~2.886~~~~~~~~~~~E_{J_{1}}~=~50.0~~~~~~~~~~~E_{J_{2}}~=~50.0~~~~~~~~~~~E_{J_{3}}~=~31.5~~~~~~~~~~~$"
      ],
      "text/plain": [
       "<IPython.core.display.Latex object>"
      ]
     },
     "metadata": {},
     "output_type": "display_data"
    },
    {
     "data": {
      "text/latex": [
       "$\\text{loops}:~~~~~~~~~~~~~~~~~~~~\\varphi_{\\text{ext}_{1}}/2\\pi~=~0.0~~~~~~~~~~~$"
      ],
      "text/plain": [
       "<IPython.core.display.Latex object>"
      ]
     },
     "metadata": {},
     "output_type": "display_data"
    }
   ],
   "source": [
    "# Ask about the ordering and Hilbert spaces for the coordinates (modes)\n",
    "cr1.description()"
   ]
  },
  {
   "cell_type": "markdown",
   "metadata": {},
   "source": [
    "## Circuit Spectrum"
   ]
  },
  {
   "cell_type": "markdown",
   "metadata": {},
   "source": [
    "To determine the size of the Hilbert space, we specify the truncation number for each circuit mode via `set_trunc_nums()` method. Note that this is a necessary step before diagonalizing the circuit."
   ]
  },
  {
   "cell_type": "code",
   "execution_count": 7,
   "metadata": {},
   "outputs": [],
   "source": [
    "# Set truncation numbers, desired eigenvalues, and flux sweep\n",
    "n1 = 1 # harmonic [see cr.description()]\n",
    "n2 = 6 # charge [see cr.description()]\n",
    "n3 = 6 # charge [see cr.description()]\n",
    "\n",
    "cr1.set_trunc_nums([n1, n2, n3])\n",
    "\n",
    "n_eig = 7\n",
    "n_ext = 300\n",
    "phi_ext = np.linspace(0.0, 1.0, n_ext)"
   ]
  },
  {
   "cell_type": "markdown",
   "metadata": {},
   "source": [
    "To generate the spectrum of the circuit, firstly, we need to change and sweep the external flux of `loop1` by the `set_flux()` method. Then, we need to find the eigenfrequencies of the circuit that correspond to that external flux via `diag()` method. The following lines of code find the `spec` a 2D NumPy array so that each column of it contains the eigenfrequencies with respect to its external flux. "
   ]
  },
  {
   "cell_type": "code",
   "execution_count": 8,
   "metadata": {},
   "outputs": [],
   "source": [
    "# Calculate eigenvalue spectrum\n",
    "spec = np.zeros((n_eig, len(phi_ext)))\n",
    "\n",
    "for i, phi in enumerate(phi_ext):\n",
    "    loop1.set_flux(phi)\n",
    "    spec[:, i], _ = cr1.diag(n_eig=n_eig)"
   ]
  },
  {
   "cell_type": "code",
   "execution_count": 9,
   "metadata": {},
   "outputs": [
    {
     "data": {
      "image/png": "[encoded data removed]",
      "text/plain": [
       "<Figure size 432x288 with 1 Axes>"
      ]
     },
     "metadata": {
      "needs_background": "light"
     },
     "output_type": "display_data"
    }
   ],
   "source": [
    "# Display eigenvalue spectrum\n",
    "plt.figure()\n",
    "for i in range(n_eig):\n",
    "    plt.plot(phi_ext, (spec[i, :] - spec[0, :]))\n",
    "\n",
    "plt.xlabel(r\"$\\Phi_{ext}/\\Phi_0$\")\n",
    "plt.ylabel(r\" $\\omega_n / 2\\pi$  (GHz)\")\n",
    "plt.show()"
   ]
  }
 ],
 "metadata": {
  "kernelspec": {
   "display_name": "Python 3 (ipykernel)",
   "language": "python",
   "name": "python3"
  },
  "language_info": {
   "codemirror_mode": {
    "name": "ipython",
    "version": 3
   },
   "file_extension": ".py",
   "mimetype": "text/x-python",
   "name": "python",
   "nbconvert_exporter": "python",
   "pygments_lexer": "ipython3",
   "version": "3.9.7"
  }
 },
 "nbformat": 4,
 "nbformat_minor": 4
}
