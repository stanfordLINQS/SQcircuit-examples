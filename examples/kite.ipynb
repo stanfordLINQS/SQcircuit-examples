{
 "cells": [
  {
   "cell_type": "markdown",
   "id": "ff54523e",
   "metadata": {},
   "source": [
    "# Kite Circuit"
   ]
  },
  {
   "cell_type": "markdown",
   "id": "9faf5f96",
   "metadata": {},
   "source": [
    "In this notebook, we try to reproduce the result of the [\"Magnifying Quantum Phase Fluctuations with Cooper-Pair Pairing\"](https://journals.aps.org/prx/abstract/10.1103/PhysRevX.12.021002) paper."
   ]
  },
  {
   "cell_type": "markdown",
   "id": "79f4f387",
   "metadata": {},
   "source": [
    "## Introduction"
   ]
  },
  {
   "cell_type": "markdown",
   "id": "b0117e38",
   "metadata": {},
   "source": [
    "[Smith2022](https://journals.aps.org/prx/abstract/10.1103/PhysRevX.12.021002) designed a superconducting circuit that maginfies quantum phase fluctuations with Cooper-pair pairing. We reproduced the energy spectrum of the Kite circuit. The diagram of the circuit is"
   ]
  },
  {
   "cell_type": "markdown",
   "id": "2a16a877",
   "metadata": {},
   "source": [
    "<img src=\"pics/kite_pic1.png\" width=\"300\" align=\"left\"/>"
   ]
  },
  {
   "cell_type": "markdown",
   "id": "b9b9c440",
   "metadata": {},
   "source": [
    "The parameters for these device in gigahertz unit are as following"
   ]
  },
  {
   "cell_type": "markdown",
   "id": "5c098e65",
   "metadata": {},
   "source": [
    "<img src=\"pics/kite_pic2.png\" width=\"450\" align=\"left\"/>"
   ]
  },
  {
   "cell_type": "markdown",
   "id": "dd27f1f5",
   "metadata": {},
   "source": [
    "## Circuit Description"
   ]
  },
  {
   "cell_type": "markdown",
   "id": "895d6479",
   "metadata": {},
   "source": [
    "Firstly, we import the SQcircuit and the relavant libraries"
   ]
  },
  {
   "cell_type": "code",
   "execution_count": 1,
   "id": "bce699a3",
   "metadata": {},
   "outputs": [],
   "source": [
    "import SQcircuit as sq\n",
    "import numpy as np\n",
    "import matplotlib.pyplot as plt"
   ]
  },
  {
   "cell_type": "markdown",
   "id": "451569cc",
   "metadata": {},
   "source": [
    "We define the two inductive loops of the circuit via `Loop` class. `loop1` represents $\\theta_\\text{ext}$ and `loop2` represents $\\varphi_\\text{ext}$."
   ]
  },
  {
   "cell_type": "code",
   "execution_count": 2,
   "id": "f2f2dabe",
   "metadata": {},
   "outputs": [],
   "source": [
    "# theta_ext:\n",
    "loop1 = sq.Loop()\n",
    "# phi_ext:\n",
    "loop2 = sq.Loop()"
   ]
  },
  {
   "cell_type": "markdown",
   "id": "1e7dcad4",
   "metadata": {},
   "source": [
    "The elements of the circuit can be defined via `Capacitor`, `Inductor`, and `Junction` classes in SQcircuit, and to define the circuit, we use the `Circuit` class. "
   ]
  },
  {
   "cell_type": "code",
   "execution_count": 3,
   "id": "5cb243f5",
   "metadata": {},
   "outputs": [],
   "source": [
    "C = sq.Capacitor(2.5)\n",
    "CJ = sq.Capacitor(6.6)\n",
    "JJ1 = sq.Junction(5.9, loops =[loop1])\n",
    "JJ2 = sq.Junction(5.9, loops =[loop1, loop2])\n",
    "l1 = sq.Inductor(0.36, loops =[loop1])\n",
    "l2 = sq.Inductor(0.36, loops =[loop1, loop2])\n",
    "L = sq.Inductor(0.23, loops=[loop2])\n",
    "\n",
    "elements = {\n",
    "    (0, 1): [l1],\n",
    "    (0, 2): [l2],\n",
    "    (0, 3): [L, C],\n",
    "    (1, 3): [JJ1, CJ],\n",
    "    (2, 3): [JJ2, CJ]\n",
    "}\n",
    "\n",
    "kite = sq.Circuit(elements)"
   ]
  },
  {
   "cell_type": "markdown",
   "id": "b864cd36",
   "metadata": {},
   "source": [
    "By creating an object of `Circuit` class, SQcircuit systematically finds the correct set of transformations and basis to make the circuit ready to be diagonalized.\n",
    "\n",
    "Before setting the truncation numbers for each mode and diagonalizing the Hamiltonian, we can gain more insight into our circuit by calling the `description()` method. This prints out the Hamiltonian and a listing of the modes, whether they are harmonic or charge modes, and the frequency for each harmonic in GHz (the default unit). Moreover, it shows the prefactors in the Josephson junction part of the Hamiltonian $\\tilde{\\textbf{w}}_k$, which helps find the modes decoupled from the nonlinearity of the circuit."
   ]
  },
  {
   "cell_type": "code",
   "execution_count": 4,
   "id": "7493e1b7",
   "metadata": {},
   "outputs": [
    {
     "data": {
      "text/latex": [
       "$\\hat{H} =~\\omega_1\\hat a^\\dagger_1\\hat a_1~+~\\omega_2\\hat a^\\dagger_2\\hat a_2~+~\\omega_3\\hat a^\\dagger_3\\hat a_3~~-~E_{J_{1}}\\cos(-\\hat{\\varphi}_1+\\hat{\\varphi}_2-\\hat{\\varphi}_3-\\varphi_{\\text{ext}_{1}}-\\varphi_{\\text{ext}_{2}})~-~E_{J_{2}}\\cos(-\\hat{\\varphi}_1-\\hat{\\varphi}_2-\\hat{\\varphi}_3-\\varphi_{\\text{ext}_{2}})$"
      ],
      "text/plain": [
       "<IPython.core.display.Latex object>"
      ]
     },
     "metadata": {},
     "output_type": "display_data"
    },
    {
     "data": {
      "text/latex": [
       "$------------------------------------------------------------$"
      ],
      "text/plain": [
       "<IPython.core.display.Latex object>"
      ]
     },
     "metadata": {},
     "output_type": "display_data"
    },
    {
     "data": {
      "text/latex": [
       "$\\text{mode}~1:~~~~~~~~~~~\\text{harmonic}~~~~~~~~~~~\\hat{\\varphi}_1~=~\\varphi_{zp_{1}}(\\hat a_1+\\hat a^\\dagger_1)~~~~~~~~~~~\\omega_1/2\\pi~=~5.96222~~~~~~~~~~~\\varphi_{zp_{1}}~=~1.05e+00$"
      ],
      "text/plain": [
       "<IPython.core.display.Latex object>"
      ]
     },
     "metadata": {},
     "output_type": "display_data"
    },
    {
     "data": {
      "text/latex": [
       "$\\text{mode}~2:~~~~~~~~~~~\\text{harmonic}~~~~~~~~~~~\\hat{\\varphi}_2~=~\\varphi_{zp_{2}}(\\hat a_2+\\hat a^\\dagger_2)~~~~~~~~~~~\\omega_2/2\\pi~=~4.3598~~~~~~~~~~~\\varphi_{zp_{2}}~=~1.74e+00$"
      ],
      "text/plain": [
       "<IPython.core.display.Latex object>"
      ]
     },
     "metadata": {},
     "output_type": "display_data"
    },
    {
     "data": {
      "text/latex": [
       "$\\text{mode}~3:~~~~~~~~~~~\\text{harmonic}~~~~~~~~~~~\\hat{\\varphi}_3~=~\\varphi_{zp_{3}}(\\hat a_3+\\hat a^\\dagger_3)~~~~~~~~~~~\\omega_3/2\\pi~=~1.56833~~~~~~~~~~~\\varphi_{zp_{3}}~=~2.05e+00$"
      ],
      "text/plain": [
       "<IPython.core.display.Latex object>"
      ]
     },
     "metadata": {},
     "output_type": "display_data"
    },
    {
     "data": {
      "text/latex": [
       "$------------------------------------------------------------$"
      ],
      "text/plain": [
       "<IPython.core.display.Latex object>"
      ]
     },
     "metadata": {},
     "output_type": "display_data"
    },
    {
     "data": {
      "text/latex": [
       "$\\text{parameters}:~~~~~~~~~~~E_{J_{1}}~=~5.9~~~~~~~~~~~E_{J_{2}}~=~5.9~~~~~~~~~~~$"
      ],
      "text/plain": [
       "<IPython.core.display.Latex object>"
      ]
     },
     "metadata": {},
     "output_type": "display_data"
    },
    {
     "data": {
      "text/latex": [
       "$\\text{loops}:~~~~~~~~~~~~~~~~~~~~\\varphi_{\\text{ext}_{1}}/2\\pi~=~0.0~~~~~~~~~~~\\varphi_{\\text{ext}_{2}}/2\\pi~=~0.0~~~~~~~~~~~$"
      ],
      "text/plain": [
       "<IPython.core.display.Latex object>"
      ]
     },
     "metadata": {},
     "output_type": "display_data"
    }
   ],
   "source": [
    "kite.description()"
   ]
  },
  {
   "cell_type": "markdown",
   "id": "940b972c",
   "metadata": {},
   "source": [
    "To determine the size of the Hilbert space, we specify the truncation number for each circuit mode via `set_trunc_nums()` method. Note that this is a necessary step before diagonalizing the circuit."
   ]
  },
  {
   "cell_type": "code",
   "execution_count": 5,
   "id": "969f0c43",
   "metadata": {},
   "outputs": [],
   "source": [
    "kite.set_trunc_nums([15,15,15])"
   ]
  },
  {
   "cell_type": "markdown",
   "id": "a776cdf3",
   "metadata": {},
   "source": [
    "## Circuit Spectrum"
   ]
  },
  {
   "cell_type": "markdown",
   "id": "02ae29ba",
   "metadata": {},
   "source": [
    "We calculate the spectrum of the circuit for $\\theta_\\text{ext}=0$ and sweep $\\phi_\\text{ext}$."
   ]
  },
  {
   "cell_type": "code",
   "execution_count": 6,
   "id": "c4c4494f",
   "metadata": {
    "scrolled": true
   },
   "outputs": [],
   "source": [
    "n_eig = 7\n",
    "phi_ext = np.linspace(-0.25, 1.25, 30)\n",
    "\n",
    "spec = np.zeros((n_eig, len(phi_ext)))\n",
    "\n",
    "for i, phi in enumerate(phi_ext):\n",
    "#     print(i)\n",
    "    loop1.set_flux(0)\n",
    "    loop2.set_flux(phi)\n",
    "    spec[:, i], _ = kite.diag(n_eig=n_eig)"
   ]
  },
  {
   "cell_type": "code",
   "execution_count": 7,
   "id": "1615d0ce",
   "metadata": {},
   "outputs": [
    {
     "data": {
      "image/png": "[encoded data removed]",
      "text/plain": [
       "<Figure size 288x432 with 1 Axes>"
      ]
     },
     "metadata": {
      "needs_background": "light"
     },
     "output_type": "display_data"
    }
   ],
   "source": [
    "plt.figure(figsize=(4, 6))\n",
    "for i in range(n_eig):\n",
    "    plt.plot(phi_ext, (spec[i, :] - spec[0, :]), '.-')\n",
    "\n",
    "plt.title(r\"$\\theta_{ext} = 0$\", fontsize=13)\n",
    "plt.xlabel(r\"$\\Phi_{ext}/\\Phi_0$\", fontsize=13)\n",
    "plt.ylabel(r\"($\\omega_i-\\omega_0$)GHz\", fontsize=13)\n",
    "plt.xticks([0, 0.5, 1])\n",
    "plt.show()"
   ]
  },
  {
   "cell_type": "markdown",
   "id": "ee3f9e50",
   "metadata": {},
   "source": [
    "We calculate the spectrum of the circuit for $\\theta_\\text{ext}=\\pi$ and sweep $\\phi_\\text{ext}$."
   ]
  },
  {
   "cell_type": "code",
   "execution_count": 8,
   "id": "31387795",
   "metadata": {
    "scrolled": true
   },
   "outputs": [],
   "source": [
    "n_eig = 7\n",
    "phi_ext = np.linspace(-0.25, 1.25, 30)\n",
    "\n",
    "spec = np.zeros((n_eig, len(phi_ext)))\n",
    "\n",
    "for i, phi in enumerate(phi_ext):\n",
    "#     print(i)\n",
    "    loop1.set_flux(0.5)\n",
    "    loop2.set_flux(phi)\n",
    "    spec[:, i], _ = kite.diag(n_eig=n_eig)"
   ]
  },
  {
   "cell_type": "code",
   "execution_count": 9,
   "id": "3e41ccda",
   "metadata": {},
   "outputs": [
    {
     "data": {
      "image/png": "[encoded data removed]",
      "text/plain": [
       "<Figure size 288x432 with 1 Axes>"
      ]
     },
     "metadata": {
      "needs_background": "light"
     },
     "output_type": "display_data"
    }
   ],
   "source": [
    "plt.figure(figsize=(4, 6))\n",
    "for i in range(n_eig):\n",
    "    plt.plot(phi_ext, (spec[i, :] - spec[0, :]), '.-')\n",
    "\n",
    "plt.title(r\"$\\theta_{ext} = \\pi$\", fontsize=13)\n",
    "plt.xlabel(r\"$\\Phi_{ext}/\\Phi_0$\", fontsize=13)\n",
    "plt.ylabel(r\"($\\omega_i-\\omega_0$)GHz\", fontsize=13)\n",
    "plt.xticks([0, 0.5, 1])\n",
    "plt.show()"
   ]
  },
  {
   "cell_type": "markdown",
   "id": "85245eda",
   "metadata": {},
   "source": [
    "The next cell shows the spectrum from the figure 5 of the paper, which is the same spectrum that SQcircuit calculated for $\\theta_\\text{ext}=0$ and $\\theta_\\text{ext}=\\pi$. "
   ]
  },
  {
   "cell_type": "markdown",
   "id": "f52ad216",
   "metadata": {},
   "source": [
    "<img src=\"pics/kite_pic3.png\" width=\"750\" align=\"left\"/>"
   ]
  }
 ],
 "metadata": {
  "kernelspec": {
   "display_name": "Python 3 (ipykernel)",
   "language": "python",
   "name": "python3"
  },
  "language_info": {
   "codemirror_mode": {
    "name": "ipython",
    "version": 3
   },
   "file_extension": ".py",
   "mimetype": "text/x-python",
   "name": "python",
   "nbconvert_exporter": "python",
   "pygments_lexer": "ipython3",
   "version": "3.9.7"
  }
 },
 "nbformat": 4,
 "nbformat_minor": 5
}
